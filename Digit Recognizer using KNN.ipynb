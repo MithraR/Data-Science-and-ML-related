{
 "cells": [
  {
   "cell_type": "code",
   "execution_count": 1,
   "metadata": {
    "_cell_guid": "b1076dfc-b9ad-4769-8c92-a6c4dae69d19",
    "_uuid": "8f2839f25d086af736a60e9eeb907d3b93b6e0e5",
    "execution": {
     "iopub.execute_input": "2020-11-08T18:04:01.601671Z",
     "iopub.status.busy": "2020-11-08T18:04:01.600668Z",
     "iopub.status.idle": "2020-11-08T18:04:01.604743Z",
     "shell.execute_reply": "2020-11-08T18:04:01.605183Z"
    },
    "papermill": {
     "duration": 0.019301,
     "end_time": "2020-11-08T18:04:01.605364",
     "exception": false,
     "start_time": "2020-11-08T18:04:01.586063",
     "status": "completed"
    },
    "tags": []
   },
   "outputs": [
    {
     "name": "stdout",
     "output_type": "stream",
     "text": [
      "/kaggle/input/digit-recognizer/train.csv\n",
      "/kaggle/input/digit-recognizer/test.csv\n",
      "/kaggle/input/digit-recognizer/sample_submission.csv\n"
     ]
    }
   ],
   "source": [
    "# This Python 3 environment comes with many helpful analytics libraries installed\n",
    "# It is defined by the kaggle/python Docker image: https://github.com/kaggle/docker-python\n",
    "# For example, here's several helpful packages to load\n",
    "\n",
    "import numpy as np # linear algebra\n",
    "import pandas as pd # data processing, CSV file I/O (e.g. pd.read_csv)\n",
    "import matplotlib.pyplot as plt\n",
    "plt.style.use(\"ggplot\")\n",
    "\n",
    "# Input data files are available in the read-only \"../input/\" directory\n",
    "# For example, running this (by clicking run or pressing Shift+Enter) will list all files under the input directory\n",
    "\n",
    "import os\n",
    "for dirname, _, filenames in os.walk('/kaggle/input'):\n",
    "    for filename in filenames:\n",
    "        print(os.path.join(dirname, filename))\n",
    "\n",
    "# You can write up to 20GB to the current directory (/kaggle/working/) that gets preserved as output when you create a version using \"Save & Run All\" \n",
    "# You can also write temporary files to /kaggle/temp/, but they won't be saved outside of the current session"
   ]
  },
  {
   "cell_type": "code",
   "execution_count": 2,
   "metadata": {
    "_cell_guid": "79c7e3d0-c299-4dcb-8224-4455121ee9b0",
    "_uuid": "d629ff2d2480ee46fbb7e2d37f6b5fab8052498a",
    "execution": {
     "iopub.execute_input": "2020-11-08T18:04:01.629839Z",
     "iopub.status.busy": "2020-11-08T18:04:01.629115Z",
     "iopub.status.idle": "2020-11-08T18:04:12.652655Z",
     "shell.execute_reply": "2020-11-08T18:04:12.651964Z"
    },
    "papermill": {
     "duration": 11.037785,
     "end_time": "2020-11-08T18:04:12.652778",
     "exception": false,
     "start_time": "2020-11-08T18:04:01.614993",
     "status": "completed"
    },
    "tags": []
   },
   "outputs": [
    {
     "name": "stdout",
     "output_type": "stream",
     "text": [
      "(42000, 785)\n",
      "(5000, 784)\n",
      "(5000,)\n",
      "(28000, 784)\n"
     ]
    }
   ],
   "source": [
    "dftrain = pd.read_csv(\"/kaggle/input/digit-recognizer/train.csv\")\n",
    "# dftrain.head()\n",
    "dftest = pd.read_csv(\"/kaggle/input/digit-recognizer/test.csv\")\n",
    "# x = dftrain.drop('label',axis = 1).values\n",
    "# y = dftrain['label'].values\n",
    "# # print(\"test\")\n",
    "# dftest.head()\n",
    "x = pd.read_csv(\"/kaggle/input/digit-recognizer/train.csv\").values[:5000,1:]\n",
    "y = pd.read_csv(\"/kaggle/input/digit-recognizer/train.csv\").values[:5000,0]\n",
    "test = pd.read_csv(\"/kaggle/input/digit-recognizer/test.csv\").values\n",
    "print (dftrain.shape)\n",
    "print (x.shape)\n",
    "print (y.shape)\n",
    "print (test.shape)"
   ]
  },
  {
   "cell_type": "code",
   "execution_count": 3,
   "metadata": {
    "execution": {
     "iopub.execute_input": "2020-11-08T18:04:12.673316Z",
     "iopub.status.busy": "2020-11-08T18:04:12.672588Z",
     "iopub.status.idle": "2020-11-08T18:04:12.852238Z",
     "shell.execute_reply": "2020-11-08T18:04:12.851722Z"
    },
    "papermill": {
     "duration": 0.192059,
     "end_time": "2020-11-08T18:04:12.852351",
     "exception": false,
     "start_time": "2020-11-08T18:04:12.660292",
     "status": "completed"
    },
    "tags": []
   },
   "outputs": [
    {
     "name": "stdout",
     "output_type": "stream",
     "text": [
      "5\n"
     ]
    },
    {
     "data": {
      "image/png": "[encoded data removed]",
      "text/plain": [
       "<Figure size 432x288 with 1 Axes>"
      ]
     },
     "metadata": {},
     "output_type": "display_data"
    }
   ],
   "source": [
    "row = 19\n",
    "print(y[row])\n",
    "plt.imshow(x[row].reshape(28, 28))\n",
    "plt.show()"
   ]
  },
  {
   "cell_type": "code",
   "execution_count": 4,
   "metadata": {
    "execution": {
     "iopub.execute_input": "2020-11-08T18:04:12.877298Z",
     "iopub.status.busy": "2020-11-08T18:04:12.876352Z",
     "iopub.status.idle": "2020-11-08T18:04:13.803078Z",
     "shell.execute_reply": "2020-11-08T18:04:13.803600Z"
    },
    "papermill": {
     "duration": 0.94267,
     "end_time": "2020-11-08T18:04:13.803747",
     "exception": false,
     "start_time": "2020-11-08T18:04:12.861077",
     "status": "completed"
    },
    "tags": []
   },
   "outputs": [
    {
     "name": "stdout",
     "output_type": "stream",
     "text": [
      "(3500, 784) (3500,) (1500, 784) (1500,)\n"
     ]
    }
   ],
   "source": [
    "from sklearn.model_selection import train_test_split\n",
    "x_tr,x_cv,y_tr,y_cv = train_test_split(x,y,test_size = 0.3,random_state = 0)\n",
    "print (x_tr.shape,y_tr.shape,x_cv.shape,y_cv.shape)"
   ]
  },
  {
   "cell_type": "code",
   "execution_count": 5,
   "metadata": {
    "execution": {
     "iopub.execute_input": "2020-11-08T18:04:13.829658Z",
     "iopub.status.busy": "2020-11-08T18:04:13.828989Z",
     "iopub.status.idle": "2020-11-08T18:05:12.993298Z",
     "shell.execute_reply": "2020-11-08T18:05:12.993833Z"
    },
    "papermill": {
     "duration": 59.181009,
     "end_time": "2020-11-08T18:05:12.994011",
     "exception": false,
     "start_time": "2020-11-08T18:04:13.813002",
     "status": "completed"
    },
    "tags": []
   },
   "outputs": [
    {
     "name": "stdout",
     "output_type": "stream",
     "text": [
      "k= 1\n",
      "              precision    recall  f1-score   support\n",
      "\n",
      "           0       0.97      0.97      0.97       156\n",
      "           1       0.91      0.98      0.95       168\n",
      "           2       0.96      0.88      0.92       160\n",
      "           3       0.90      0.91      0.90       146\n",
      "           4       0.93      0.91      0.92       153\n",
      "           5       0.92      0.90      0.91       145\n",
      "           6       0.92      0.97      0.94       136\n",
      "           7       0.93      0.95      0.94       157\n",
      "           8       0.90      0.83      0.87       133\n",
      "           9       0.86      0.87      0.87       146\n",
      "\n",
      "    accuracy                           0.92      1500\n",
      "   macro avg       0.92      0.92      0.92      1500\n",
      "weighted avg       0.92      0.92      0.92      1500\n",
      "\n",
      "[[152   0   0   1   1   0   2   0   0   0]\n",
      " [  0 165   1   1   0   0   0   0   0   1]\n",
      " [  1   3 140   3   2   0   1   4   4   2]\n",
      " [  0   0   1 133   0   5   0   2   4   1]\n",
      " [  0   0   0   0 139   1   3   0   0  10]\n",
      " [  0   3   1   4   0 131   3   0   3   0]\n",
      " [  1   0   0   0   1   1 132   0   1   0]\n",
      " [  0   5   0   0   1   0   0 149   0   2]\n",
      " [  0   3   2   4   1   5   3   0 111   4]\n",
      " [  3   2   1   2   5   0   0   6   0 127]]\n",
      "k= 2\n",
      "              precision    recall  f1-score   support\n",
      "\n",
      "           0       0.92      0.98      0.95       156\n",
      "           1       0.88      0.99      0.93       168\n",
      "           2       0.92      0.89      0.90       160\n",
      "           3       0.87      0.93      0.90       146\n",
      "           4       0.89      0.97      0.93       153\n",
      "           5       0.91      0.86      0.88       145\n",
      "           6       0.93      0.96      0.95       136\n",
      "           7       0.90      0.92      0.91       157\n",
      "           8       0.94      0.76      0.84       133\n",
      "           9       0.93      0.78      0.85       146\n",
      "\n",
      "    accuracy                           0.91      1500\n",
      "   macro avg       0.91      0.90      0.90      1500\n",
      "weighted avg       0.91      0.91      0.91      1500\n",
      "\n",
      "[[153   0   0   1   1   1   0   0   0   0]\n",
      " [  0 166   1   0   0   0   0   0   0   1]\n",
      " [  3   6 142   0   0   0   0   3   4   2]\n",
      " [  1   0   3 136   0   2   0   1   2   1]\n",
      " [  0   0   0   1 149   0   1   0   0   2]\n",
      " [  1   3   1   9   1 124   5   0   1   0]\n",
      " [  3   0   0   0   1   1 131   0   0   0]\n",
      " [  0   7   1   0   4   0   0 144   0   1]\n",
      " [  2   4   5   6   1   8   4   0 101   2]\n",
      " [  3   3   1   3  10   0   0  12   0 114]]\n",
      "k= 3\n",
      "              precision    recall  f1-score   support\n",
      "\n",
      "           0       0.94      0.99      0.97       156\n",
      "           1       0.87      0.98      0.92       168\n",
      "           2       0.93      0.88      0.90       160\n",
      "           3       0.92      0.92      0.92       146\n",
      "           4       0.94      0.90      0.92       153\n",
      "           5       0.95      0.90      0.93       145\n",
      "           6       0.90      0.98      0.94       136\n",
      "           7       0.93      0.92      0.93       157\n",
      "           8       0.93      0.83      0.88       133\n",
      "           9       0.86      0.86      0.86       146\n",
      "\n",
      "    accuracy                           0.92      1500\n",
      "   macro avg       0.92      0.91      0.91      1500\n",
      "weighted avg       0.92      0.92      0.92      1500\n",
      "\n",
      "[[154   0   0   0   0   0   2   0   0   0]\n",
      " [  0 165   1   0   0   0   1   0   0   1]\n",
      " [  2   6 140   1   0   0   1   4   4   2]\n",
      " [  0   0   4 134   0   2   0   2   3   1]\n",
      " [  0   0   0   1 137   0   3   0   0  12]\n",
      " [  1   2   1   5   0 131   4   0   1   0]\n",
      " [  2   0   0   0   0   1 133   0   0   0]\n",
      " [  0   9   0   0   2   0   0 145   0   1]\n",
      " [  1   4   3   3   1   4   3   0 110   4]\n",
      " [  3   3   2   2   6   0   0   5   0 125]]\n",
      "k= 4\n",
      "              precision    recall  f1-score   support\n",
      "\n",
      "           0       0.96      0.98      0.97       156\n",
      "           1       0.87      0.98      0.92       168\n",
      "           2       0.95      0.90      0.92       160\n",
      "           3       0.91      0.92      0.91       146\n",
      "           4       0.93      0.93      0.93       153\n",
      "           5       0.93      0.88      0.91       145\n",
      "           6       0.90      0.99      0.94       136\n",
      "           7       0.91      0.93      0.92       157\n",
      "           8       0.94      0.80      0.87       133\n",
      "           9       0.87      0.82      0.85       146\n",
      "\n",
      "    accuracy                           0.92      1500\n",
      "   macro avg       0.92      0.91      0.91      1500\n",
      "weighted avg       0.92      0.92      0.91      1500\n",
      "\n",
      "[[153   0   0   0   0   0   3   0   0   0]\n",
      " [  0 165   1   0   0   0   1   0   0   1]\n",
      " [  0   6 144   1   0   0   0   4   4   1]\n",
      " [  1   0   3 134   0   2   1   2   2   1]\n",
      " [  0   0   0   1 142   0   2   0   0   8]\n",
      " [  1   3   1   6   0 128   5   0   1   0]\n",
      " [  1   0   0   0   0   1 134   0   0   0]\n",
      " [  0   7   0   0   2   0   0 146   0   2]\n",
      " [  1   5   1   4   1   6   3   0 107   5]\n",
      " [  3   3   2   2   8   0   0   8   0 120]]\n",
      "k= 5\n",
      "              precision    recall  f1-score   support\n",
      "\n",
      "           0       0.96      0.98      0.97       156\n",
      "           1       0.87      0.98      0.92       168\n",
      "           2       0.97      0.89      0.93       160\n",
      "           3       0.94      0.91      0.92       146\n",
      "           4       0.94      0.90      0.92       153\n",
      "           5       0.92      0.91      0.91       145\n",
      "           6       0.88      0.99      0.93       136\n",
      "           7       0.93      0.92      0.93       157\n",
      "           8       0.94      0.83      0.88       133\n",
      "           9       0.87      0.87      0.87       146\n",
      "\n",
      "    accuracy                           0.92      1500\n",
      "   macro avg       0.92      0.92      0.92      1500\n",
      "weighted avg       0.92      0.92      0.92      1500\n",
      "\n",
      "[[153   0   0   0   0   0   3   0   0   0]\n",
      " [  0 165   1   0   0   0   1   0   0   1]\n",
      " [  0   6 143   2   1   0   0   3   4   1]\n",
      " [  1   0   2 133   0   4   1   2   2   1]\n",
      " [  0   0   1   0 138   0   3   0   0  11]\n",
      " [  0   2   0   3   0 132   6   0   1   1]\n",
      " [  1   0   0   0   0   1 134   0   0   0]\n",
      " [  0   8   0   0   3   0   0 145   0   1]\n",
      " [  1   5   0   2   1   7   4   0 110   3]\n",
      " [  3   3   1   2   4   0   0   6   0 127]]\n",
      "k= 6\n",
      "              precision    recall  f1-score   support\n",
      "\n",
      "           0       0.97      0.98      0.97       156\n",
      "           1       0.86      0.98      0.92       168\n",
      "           2       0.96      0.90      0.93       160\n",
      "           3       0.94      0.93      0.93       146\n",
      "           4       0.95      0.91      0.93       153\n",
      "           5       0.93      0.92      0.92       145\n",
      "           6       0.89      0.99      0.94       136\n",
      "           7       0.91      0.92      0.92       157\n",
      "           8       0.96      0.80      0.88       133\n",
      "           9       0.86      0.86      0.86       146\n",
      "\n",
      "    accuracy                           0.92      1500\n",
      "   macro avg       0.92      0.92      0.92      1500\n",
      "weighted avg       0.92      0.92      0.92      1500\n",
      "\n",
      "[[153   0   0   0   0   0   3   0   0   0]\n",
      " [  0 165   1   0   0   0   1   0   0   1]\n",
      " [  0   6 144   2   1   0   0   4   2   1]\n",
      " [  0   0   2 136   0   2   1   2   1   2]\n",
      " [  0   0   1   0 139   0   2   0   0  11]\n",
      " [  0   2   0   4   0 133   5   0   1   0]\n",
      " [  1   1   0   0   0   0 134   0   0   0]\n",
      " [  0   9   0   0   2   0   0 145   0   1]\n",
      " [  2   5   1   2   1   7   4   0 107   4]\n",
      " [  2   3   1   1   4   1   0   8   0 126]]\n",
      "k= 7\n",
      "              precision    recall  f1-score   support\n",
      "\n",
      "           0       0.96      0.97      0.97       156\n",
      "           1       0.86      0.98      0.92       168\n",
      "           2       0.97      0.88      0.92       160\n",
      "           3       0.95      0.91      0.93       146\n",
      "           4       0.94      0.88      0.91       153\n",
      "           5       0.92      0.92      0.92       145\n",
      "           6       0.88      0.98      0.92       136\n",
      "           7       0.89      0.92      0.91       157\n",
      "           8       0.97      0.81      0.89       133\n",
      "           9       0.82      0.86      0.84       146\n",
      "\n",
      "    accuracy                           0.91      1500\n",
      "   macro avg       0.92      0.91      0.91      1500\n",
      "weighted avg       0.92      0.91      0.91      1500\n",
      "\n",
      "[[152   0   0   0   0   0   4   0   0   0]\n",
      " [  0 165   1   0   0   0   1   0   0   1]\n",
      " [  0   7 141   3   1   0   0   5   1   2]\n",
      " [  0   0   2 133   0   4   1   3   1   2]\n",
      " [  0   0   0   0 135   0   2   1   0  15]\n",
      " [  0   2   0   1   0 133   7   0   1   1]\n",
      " [  2   1   0   0   0   0 133   0   0   0]\n",
      " [  0   9   0   0   2   0   0 144   0   2]\n",
      " [  2   5   0   2   1   7   4   0 108   4]\n",
      " [  2   3   1   1   5   1   0   8   0 125]]\n"
     ]
    }
   ],
   "source": [
    "from sklearn.metrics import accuracy_score,classification_report,confusion_matrix\n",
    "from sklearn.neighbors import KNeighborsClassifier\n",
    "k_val = range(1,8)\n",
    "scores = []\n",
    "for k in k_val:\n",
    "    print(\"k=\",str(k))\n",
    "    model = KNeighborsClassifier(n_neighbors = k)\n",
    "    model.fit(x_tr,y_tr)\n",
    "    ycv_pred = model.predict(x_cv)\n",
    "    accuracy = accuracy_score(ycv_pred,y_cv)\n",
    "    scores.append(accuracy)\n",
    "    print(classification_report(y_cv, ycv_pred))  \n",
    "    print(confusion_matrix(y_cv, ycv_pred)) \n",
    "\n"
   ]
  },
  {
   "cell_type": "code",
   "execution_count": 6,
   "metadata": {
    "execution": {
     "iopub.execute_input": "2020-11-08T18:05:13.022491Z",
     "iopub.status.busy": "2020-11-08T18:05:13.021491Z",
     "iopub.status.idle": "2020-11-08T18:05:13.024915Z",
     "shell.execute_reply": "2020-11-08T18:05:13.025490Z"
    },
    "papermill": {
     "duration": 0.019892,
     "end_time": "2020-11-08T18:05:13.025649",
     "exception": false,
     "start_time": "2020-11-08T18:05:13.005757",
     "status": "completed"
    },
    "tags": []
   },
   "outputs": [
    {
     "name": "stdout",
     "output_type": "stream",
     "text": [
      "[0.9193333333333333, 0.9066666666666666, 0.916, 0.9153333333333333, 0.92, 0.9213333333333333, 0.9126666666666666]\n"
     ]
    }
   ],
   "source": [
    "print (scores)"
   ]
  },
  {
   "cell_type": "code",
   "execution_count": 7,
   "metadata": {
    "execution": {
     "iopub.execute_input": "2020-11-08T18:05:13.054611Z",
     "iopub.status.busy": "2020-11-08T18:05:13.053916Z",
     "iopub.status.idle": "2020-11-08T18:05:13.206018Z",
     "shell.execute_reply": "2020-11-08T18:05:13.205465Z"
    },
    "papermill": {
     "duration": 0.168665,
     "end_time": "2020-11-08T18:05:13.206141",
     "exception": false,
     "start_time": "2020-11-08T18:05:13.037476",
     "status": "completed"
    },
    "tags": []
   },
   "outputs": [
    {
     "data": {
      "image/png": "[encoded data removed]",
      "text/plain": [
       "<Figure size 432x288 with 1 Axes>"
      ]
     },
     "metadata": {},
     "output_type": "display_data"
    }
   ],
   "source": [
    "plt.plot(k_val,scores)\n",
    "plt.xlabel('Value of K')\n",
    "plt.ylabel('Testing accuracy')\n",
    "plt.show()"
   ]
  },
  {
   "cell_type": "code",
   "execution_count": 8,
   "metadata": {
    "execution": {
     "iopub.execute_input": "2020-11-08T18:05:13.238477Z",
     "iopub.status.busy": "2020-11-08T18:05:13.237280Z",
     "iopub.status.idle": "2020-11-08T18:09:13.166081Z",
     "shell.execute_reply": "2020-11-08T18:09:13.165442Z"
    },
    "papermill": {
     "duration": 239.947051,
     "end_time": "2020-11-08T18:09:13.166238",
     "exception": false,
     "start_time": "2020-11-08T18:05:13.219187",
     "status": "completed"
    },
    "tags": []
   },
   "outputs": [],
   "source": [
    "k = 6\n",
    "\n",
    "model = KNeighborsClassifier(n_neighbors = k)\n",
    "model.fit(x,y)\n",
    "y_pred = model.predict(test)"
   ]
  },
  {
   "cell_type": "code",
   "execution_count": 9,
   "metadata": {
    "execution": {
     "iopub.execute_input": "2020-11-08T18:09:13.203626Z",
     "iopub.status.busy": "2020-11-08T18:09:13.202936Z",
     "iopub.status.idle": "2020-11-08T18:09:13.331672Z",
     "shell.execute_reply": "2020-11-08T18:09:13.330949Z"
    },
    "papermill": {
     "duration": 0.151765,
     "end_time": "2020-11-08T18:09:13.331819",
     "exception": false,
     "start_time": "2020-11-08T18:09:13.180054",
     "status": "completed"
    },
    "tags": []
   },
   "outputs": [
    {
     "name": "stdout",
     "output_type": "stream",
     "text": [
      "1\n"
     ]
    },
    {
     "data": {
      "image/png": "[encoded data removed]",
      "text/plain": [
       "<Figure size 432x288 with 1 Axes>"
      ]
     },
     "metadata": {},
     "output_type": "display_data"
    }
   ],
   "source": [
    "row = 800\n",
    "print (y_pred[row])\n",
    "plt.imshow(test[row].reshape((28, 28)))\n",
    "plt.show()"
   ]
  },
  {
   "cell_type": "code",
   "execution_count": 10,
   "metadata": {
    "execution": {
     "iopub.execute_input": "2020-11-08T18:09:13.373201Z",
     "iopub.status.busy": "2020-11-08T18:09:13.372519Z",
     "iopub.status.idle": "2020-11-08T18:09:13.756121Z",
     "shell.execute_reply": "2020-11-08T18:09:13.755433Z"
    },
    "papermill": {
     "duration": 0.410092,
     "end_time": "2020-11-08T18:09:13.756248",
     "exception": false,
     "start_time": "2020-11-08T18:09:13.346156",
     "status": "completed"
    },
    "tags": []
   },
   "outputs": [],
   "source": [
    "pd.DataFrame({\"ImageId\": list(range(1,len(y_pred)+1)),\"Label\": y_pred}).to_csv('Digit_Recog_Result.csv', index=False,header=True)"
   ]
  },
  {
   "cell_type": "raw",
   "metadata": {
    "papermill": {
     "duration": 0.014096,
     "end_time": "2020-11-08T18:09:13.785280",
     "exception": false,
     "start_time": "2020-11-08T18:09:13.771184",
     "status": "completed"
    },
    "tags": []
   },
   "source": []
  }
 ],
 "metadata": {
  "kernelspec": {
   "display_name": "Python 3",
   "language": "python",
   "name": "python3"
  },
  "language_info": {
   "codemirror_mode": {
    "name": "ipython",
    "version": 3
   },
   "file_extension": ".py",
   "mimetype": "text/x-python",
   "name": "python",
   "nbconvert_exporter": "python",
   "pygments_lexer": "ipython3",
   "version": "3.7.6"
  },
  "papermill": {
   "duration": 316.869535,
   "end_time": "2020-11-08T18:09:13.907430",
   "environment_variables": {},
   "exception": null,
   "input_path": "__notebook__.ipynb",
   "output_path": "__notebook__.ipynb",
   "parameters": {},
   "start_time": "2020-11-08T18:03:57.037895",
   "version": "2.1.0"
  }
 },
 "nbformat": 4,
 "nbformat_minor": 4
}
